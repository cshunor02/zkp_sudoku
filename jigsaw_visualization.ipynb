{
 "cells": [
  {
   "cell_type": "code",
   "execution_count": 8,
   "metadata": {},
   "outputs": [],
   "source": [
    "import random\n",
    "import matplotlib.pyplot as plt\n",
    "from matplotlib.patches import Rectangle"
   ]
  },
  {
   "cell_type": "code",
   "execution_count": 2,
   "metadata": {},
   "outputs": [],
   "source": [
    "# This function requires at least 2 rows!\n",
    "# If we want to visualize a single row, we can pass it as a list of lists (right now)\n",
    "# visualize_deck([deck])\n",
    "\n",
    "def visualize_deck(deck, blocks):\n",
    "    deck = deck[::-1]\n",
    "    blocks = blocks[::-1]\n",
    "\n",
    "    # Default values\n",
    "    gap = 0.1\n",
    "    card_width = 0.5\n",
    "    card_height = 0.5\n",
    "    total_width = len(deck[0]) * (card_width + gap) - gap\n",
    "    total_height = len(deck) * (card_height + gap) - gap\n",
    "    \n",
    "    _, ax = plt.subplots(figsize=(total_width, total_height + 1))\n",
    "    ax.set_xlim(0, total_width)\n",
    "    ax.set_ylim(0, total_height)\n",
    "    ax.axis('off')\n",
    "\n",
    "    prev_state = blocks[0][0]\n",
    "    mini_line_length = 0.04\n",
    "\n",
    "    for row_idx, row in enumerate(deck):\n",
    "        y = row_idx * (card_height + gap)\n",
    "        prev_state = blocks[row_idx][0]\n",
    "        for i, card in enumerate(row):\n",
    "            x = i * (card_width + gap)\n",
    "            rect = Rectangle((x, y), card_width, card_height, color=card[\"color\"], ec=\"grey\", lw=1.5)\n",
    "            ax.add_patch(rect)\n",
    "            ax.text(x + card_width / 2, y + card_height / 2, str(card[\"number\"]), \n",
    "                    ha='center', va='center', fontsize=16, color='black')\n",
    "\n",
    "            if prev_state != blocks[row_idx][i]:\n",
    "                # Draw a line to separate the blocks vertically between the cells\n",
    "                ax.plot([x - 0.05, x - 0.05], [y + mini_line_length, y + card_height + mini_line_length], color='black', lw=2)\n",
    "            if row_idx > 0:\n",
    "                if blocks[row_idx][i] != blocks[row_idx - 1][i]:\n",
    "                    ax.plot([x + mini_line_length, x + card_width + mini_line_length], [y - 0.05, y - 0.05], color='black', lw=2)\n",
    "              \n",
    "            prev_state = blocks[row_idx][i]\n",
    "    plt.show()"
   ]
  }
 ],
 "metadata": {
  "kernelspec": {
   "display_name": "Python 3",
   "language": "python",
   "name": "python3"
  },
  "language_info": {
   "codemirror_mode": {
    "name": "ipython",
    "version": 3
   },
   "file_extension": ".py",
   "mimetype": "text/x-python",
   "name": "python",
   "nbconvert_exporter": "python",
   "pygments_lexer": "ipython3",
   "version": "3.13.1"
  }
 },
 "nbformat": 4,
 "nbformat_minor": 2
}
