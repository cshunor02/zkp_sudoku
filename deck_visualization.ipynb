{
 "cells": [
  {
   "cell_type": "code",
   "execution_count": 1,
   "metadata": {},
   "outputs": [],
   "source": [
    "import random\n",
    "import matplotlib.pyplot as plt\n",
    "from matplotlib.patches import Rectangle"
   ]
  },
  {
   "cell_type": "code",
   "execution_count": 5,
   "metadata": {},
   "outputs": [],
   "source": [
    "def visualize_deck(deck):\n",
    "    gap = 0.1\n",
    "    card_width = 0.5\n",
    "    card_height = 0.5\n",
    "    \n",
    "    total_width = len(deck[0]) * (card_width + gap) - gap\n",
    "    total_height = len(deck) * (card_height + gap) - gap\n",
    "    \n",
    "    _, ax = plt.subplots(figsize=(total_width, total_height + 1))\n",
    "    ax.set_xlim(0, total_width)\n",
    "    ax.set_ylim(0, total_height)\n",
    "    ax.axis('off')\n",
    "\n",
    "    for row_idx, row in enumerate(deck):\n",
    "        y = row_idx * (card_height + gap)\n",
    "        for i, card in enumerate(row):\n",
    "            x = i * (card_width + gap)\n",
    "            rect = Rectangle((x, y), card_width, card_height, color=card[\"color\"], ec=\"black\", lw=2)\n",
    "            ax.add_patch(rect)\n",
    "            ax.text(x + card_width / 2, y + card_height / 2, str(card[\"number\"]), \n",
    "                    ha='center', va='center', fontsize=16, color='black')\n",
    "        \n",
    "    for i in range(1, 3):\n",
    "            y = i * 3 * (card_height + gap) - gap / 2\n",
    "            ax.axhline(y=y, color='black', linewidth=2)\n",
    "            x = i * 3 * (card_width + gap) - gap / 2\n",
    "            ax.axvline(x=x, color='black', linewidth=2)\n",
    "\n",
    "    plt.show()"
   ]
  }
 ],
 "metadata": {
  "kernelspec": {
   "display_name": "Python 3",
   "language": "python",
   "name": "python3"
  },
  "language_info": {
   "codemirror_mode": {
    "name": "ipython",
    "version": 3
   },
   "file_extension": ".py",
   "mimetype": "text/x-python",
   "name": "python",
   "nbconvert_exporter": "python",
   "pygments_lexer": "ipython3",
   "version": "3.13.1"
  }
 },
 "nbformat": 4,
 "nbformat_minor": 2
}
